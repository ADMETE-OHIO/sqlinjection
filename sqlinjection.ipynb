{
 "cells": [
  {
   "cell_type": "markdown",
   "id": "entitled-sewing",
   "metadata": {},
   "source": [
    "# SQL Injection\n",
    "\n",
    "### The purpose of this exercise is to demonstrate how unsanitized database queries can lead to leaks of personal information. \n",
    "\n",
    "### In this exercise we will:\n",
    "\n",
    "<ul>\n",
    "<li>Connect to a database.</li>\n",
    "<li>Submit a legitimate query.</li>\n",
    "<li>Submit a variety of illicit queries.</li>\n",
    "<li>Demonstrate how to sanitize database inputs to reduce the occurance of SQL injection attacks.</li>\n",
    "</ul>"
   ]
  },
  {
   "cell_type": "markdown",
   "id": "increasing-tribute",
   "metadata": {},
   "source": [
    "A sample SQLite database has been created that stores information about a set of employees, including their names, social security numbers, home address, and other information.  The follow code snippet demonstrates how to connect to the database and query that infomration using the SQL _SELECT_ statement."
   ]
  },
  {
   "cell_type": "code",
   "execution_count": null,
   "id": "suspended-justice",
   "metadata": {},
   "outputs": [],
   "source": [
    "from background import *\n",
    "\n",
    "connection = create_connection(\"test.db\")\n",
    "\n",
    "select_users = \"SELECT * from EMPLOYEE\"\n",
    "users = execute_read_query(connection, select_users)\n",
    "\n",
    "for user in users:\n",
    "    print(user) "
   ]
  },
  {
   "cell_type": "markdown",
   "id": "announced-quantity",
   "metadata": {},
   "source": [
    "There are situations where one may not wish a user to be able to see information about arbitrary entires in the database.  For instance, the next code snippet requires a user to enter their SSN in order to see their current information.  The assumption here is that one only knows their own SSN, and not the SSN of their co-workers.  Try the example for the employee whose SSN is 123456789."
   ]
  },
  {
   "cell_type": "code",
   "execution_count": null,
   "id": "governmental-element",
   "metadata": {},
   "outputs": [],
   "source": [
    "ssn=\"123456789\""
   ]
  },
  {
   "cell_type": "code",
   "execution_count": null,
   "id": "proved-antenna",
   "metadata": {},
   "outputs": [],
   "source": [
    "select_users = \"SELECT * from employee where ssn=\" + ssn\n",
    "\n",
    "users = execute_read_query(connection, select_users)\n",
    "\n",
    "for user in users:\n",
    "    print(user) "
   ]
  },
  {
   "cell_type": "markdown",
   "id": "accurate-publicity",
   "metadata": {},
   "source": [
    "Very good.  Now a user can only see information for SSN numbers they know.  There is a first, obvious, vulerability in that a user could guess random SSNs and, perhaps, leak information about their co-workers, but the search space is large.  A second, more insidious vulnerable is known as _SQL Injection_ where additional SQL code can be fed into the application to change the results.  Append \"OR TRUE\" to the SSN and run the sample again to see what happens."
   ]
  },
  {
   "cell_type": "markdown",
   "id": "joined-details",
   "metadata": {},
   "source": [
    "As you can see, because of the mechanism the code uses to build their query, it is vulnerable to manipulation of the where clause.  Let's run a new version that _sanitizes_ the user input to ensure it only contains a valid SSN.\n",
    "\n",
    "<img src=\"https://imgs.xkcd.com/comics/exploits_of_a_mom.png\">"
   ]
  },
  {
   "cell_type": "code",
   "execution_count": null,
   "id": "adapted-superintendent",
   "metadata": {},
   "outputs": [],
   "source": [
    "if(isSSN(ssn)):\n",
    "    select_users = \"SELECT * from employee where ssn=\" + ssn\n",
    "\n",
    "    users = execute_read_query(connection, select_users)\n",
    "\n",
    "    for user in users:\n",
    "        print(user) "
   ]
  },
  {
   "cell_type": "markdown",
   "id": "entitled-investigation",
   "metadata": {},
   "source": [
    "In summary, if you construct a dynamic SQL query based on user input make sure to sanitize your inputs!"
   ]
  }
 ],
 "metadata": {
  "kernelspec": {
   "display_name": "Python 3",
   "language": "python",
   "name": "python3"
  },
  "language_info": {
   "codemirror_mode": {
    "name": "ipython",
    "version": 3
   },
   "file_extension": ".py",
   "mimetype": "text/x-python",
   "name": "python",
   "nbconvert_exporter": "python",
   "pygments_lexer": "ipython3",
   "version": "3.9.5"
  }
 },
 "nbformat": 4,
 "nbformat_minor": 5
}
