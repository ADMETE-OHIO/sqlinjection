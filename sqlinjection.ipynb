{
 "cells": [
  {
   "cell_type": "markdown",
   "id": "entitled-sewing",
   "metadata": {},
   "source": [
    "# SQL Injection\n",
    "\n",
    "### The purpose of this exercise is to demonstrate how unsanitized database queries can lead to leaks of personal information. \n",
    "\n",
    "### In this exercise we will:\n",
    "\n",
    "<ul>\n",
    "<li>Connect to a database.</li>\n",
    "<li>Submit a legitimate query.</li>\n",
    "<li>Submit a variety of illicit queries.</li>\n",
    "<li>Demonstrate how to sanitize database inputs to reduce the occurance of SQL injection attacks.</li>\n",
    "</ul>"
   ]
  },
  {
   "cell_type": "markdown",
   "id": "increasing-tribute",
   "metadata": {},
   "source": [
    "A sample SQLite database has been created that stores information about a set of employees, including their names, social security numbers, home address, and other information.  The follow code snippet demonstrates how to connect to the database and query that infomration using the SQL _SELECT_ statement."
   ]
  },
  {
   "cell_type": "code",
   "execution_count": null,
   "id": "suspended-justice",
   "metadata": {},
   "outputs": [],
   "source": [
    "from background import *\n",
    "\n",
    "connection = create_connection(\"test.db\")\n",
    "\n",
    "select_users = \"SELECT * from EMPLOYEE\"\n",
    "users = execute_read_query(connection, select_users)\n",
    "\n",
    "for user in users:\n",
    "    print(user) "
   ]
  },
  {
   "cell_type": "markdown",
   "id": "announced-quantity",
   "metadata": {},
   "source": [
    "There are situations where one may not wish a user to be able to see information about arbitrary entires in the database.  For instance, the next code snippet requires a user to enter their SSN in order to see their current information.  The assumption here is that one only knows their own SSN, and not the SSN of their co-workers.  Try the example for the employee whose SSN is 123456789."
   ]
  },
  {
   "cell_type": "code",
   "execution_count": null,
   "id": "governmental-element",
   "metadata": {},
   "outputs": [],
   "source": [
    "ssn=\"123456789\""
   ]
  },
  {
   "cell_type": "code",
   "execution_count": null,
   "id": "proved-antenna",
   "metadata": {},
   "outputs": [],
   "source": [
    "select_users = \"SELECT * from employee where ssn=\" + ssn\n",
    "\n",
    "users = execute_read_query(connection, select_users)\n",
    "\n",
    "for user in users:\n",
    "    print(user) "
   ]
  },
  {
   "cell_type": "markdown",
   "id": "accurate-publicity",
   "metadata": {},
   "source": [
    "Very good.  Now a user can only see information for SSN numbers they know.  There is a first, obvious, vulerability in that a user could guess random SSNs and, perhaps, leak information about their co-workers, but the search space is large.  A second, more insidious vulnerable is known as _SQL Injection_ where additional SQL code can be fed into the application to change the results.  Append \"OR TRUE\" to the SSN and run the sample again to see what happens."
   ]
  },
  {
   "cell_type": "markdown",
   "id": "joined-details",
   "metadata": {},
   "source": [
    "As you can see, because of the mechanism the code uses to build their query, it is vulnerable to manipulation of the where clause.  Let's run a new version that _sanitizes_ the user input to ensure it only contains a valid SSN.\n",
    "\n",
    "<img src=\"https://imgs.xkcd.com/comics/exploits_of_a_mom.png\">"
   ]
  },
  {
   "cell_type": "code",
   "execution_count": null,
   "id": "adapted-superintendent",
   "metadata": {},
   "outputs": [],
   "source": [
    "if(isSSN(ssn)):\n",
    "    select_users = \"SELECT * from employee where ssn=\" + ssn\n",
    "\n",
    "    users = execute_read_query(connection, select_users)\n",
    "\n",
    "    for user in users:\n",
    "        print(user) "
   ]
  },
  {
   "cell_type": "markdown",
   "id": "suitable-anaheim",
   "metadata": {},
   "source": [
    "Try running it with an without the \"OR TRUE\" and you'll see only the valid SSN works.\n",
    "\n",
    "Let's try another example.  Let's say you have the following script to add new employees to the database.  Can you spot the vulnerability?"
   ]
  },
  {
   "cell_type": "code",
   "execution_count": null,
   "id": "streaming-arrest",
   "metadata": {},
   "outputs": [],
   "source": [
    "first_name = \"Abraham\"\n",
    "last_name = \"Lincoln\"\n",
    "ssn = \"222222222\"\n",
    "department_number = \"1\";\n",
    "\n",
    "add_user = \"\"\"\n",
    "INSERT INTO EMPLOYEE (Fname,Lname,Ssn,Dno)\n",
    "VALUES\n",
    "(\\\"\"\"\" + first_name + \"\\\",\\\"\" + last_name + \"\\\",\" + ssn + \",\" + department_number + \");\"\n",
    "\n",
    "execute_queries(connection,add_user)\n"
   ]
  },
  {
   "cell_type": "markdown",
   "id": "rental-reset",
   "metadata": {},
   "source": [
    "At first, it might seem like there is no good way to good way to alter the query to expose extra information, because it is constrainted by the values in the insert clause.  However, if you notice, the writer of the script allows multiple queries to be run at once.\n",
    "\n",
    "This allows us to use another class of exploits that involves appending additional queries and running them all at the same time.  Look at the following code sample and see what the fully resolved query looks like when printed."
   ]
  },
  {
   "cell_type": "code",
   "execution_count": null,
   "id": "inner-oregon",
   "metadata": {},
   "outputs": [],
   "source": [
    "first_name = \"George\"\n",
    "last_name = \"Washington\"\n",
    "ssn = \"555555555\"\n",
    "department_number = \"\"\"1);\n",
    "\n",
    "UPDATE EMPLOYEE\n",
    "SET Salary=100000\n",
    "WHERE Lname=\"English\";\n",
    "\n",
    "DELETE FROM EMPLOYEE\n",
    "WHERE (Lname=\"Washington\\\"\"\"\"\n",
    "\n",
    "add_user = \"\"\"\n",
    "INSERT INTO EMPLOYEE (Fname,Lname,Ssn,Dno)\n",
    "VALUES\n",
    "(\\\"\"\"\" + first_name + \"\\\",\\\"\" + last_name + \"\\\",\" + ssn + \",\" + department_number + \");\"\n",
    "\n",
    "print(add_user)"
   ]
  },
  {
   "cell_type": "markdown",
   "id": "thousand-miami",
   "metadata": {},
   "source": [
    "You can see that with some clever formating we have spliced two additional queries into a single string, adding a dummy employee, adjusting an employee's salary, and removing the dummy employee.\n",
    "\n",
    "Run the following code to use the exploit query and print the entire table.  Compare the table to our original printout and see what changed."
   ]
  },
  {
   "cell_type": "code",
   "execution_count": null,
   "id": "hired-amateur",
   "metadata": {},
   "outputs": [],
   "source": [
    "execute_queries(connection,add_user)\n",
    "\n",
    "select_users = \"SELECT * from employee\"\n",
    "users = execute_read_query(connection, select_users)\n",
    "\n",
    "for user in users:\n",
    "    print(user) "
   ]
  },
  {
   "cell_type": "markdown",
   "id": "entitled-investigation",
   "metadata": {},
   "source": [
    "If you compare this to the original table, you will see that Joyce has received a nice raise.  While it is convient to allow execution of batches to queries to, for instance, initialize your database, you should restrict execution to one query at a time in public facing scripts.\n",
    "\n",
    "In summary, if you construct a dynamic SQL query based on user input make sure to sanitize your inputs!"
   ]
  }
 ],
 "metadata": {
  "kernelspec": {
   "display_name": "Python 3",
   "language": "python",
   "name": "python3"
  },
  "language_info": {
   "codemirror_mode": {
    "name": "ipython",
    "version": 3
   },
   "file_extension": ".py",
   "mimetype": "text/x-python",
   "name": "python",
   "nbconvert_exporter": "python",
   "pygments_lexer": "ipython3",
   "version": "3.9.5"
  }
 },
 "nbformat": 4,
 "nbformat_minor": 5
}
