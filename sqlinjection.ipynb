{
 "cells": [
  {
   "cell_type": "markdown",
   "id": "entitled-sewing",
   "metadata": {},
   "source": [
    "# SQL Injection\n",
    "\n",
    "### The purpose of this exercise is to demonstrate how unsanitized database queries can lead to leaks of personal information (e.g., in a web based application where people enter their names and other information). \n",
    "\n",
    "### In this exercise we will:\n",
    "\n",
    "<ul>\n",
    "<li>Connect to a database.</li>\n",
    "<li>Submit a legitimate query.</li>\n",
    "<li>Submit a variety of illicit queries.</li>\n",
    "<li>Demonstrate how to sanitize database inputs to reduce the occurance of SQL injection attacks.</li>\n",
    "</ul>"
   ]
  },
  {
   "cell_type": "markdown",
   "id": "increasing-tribute",
   "metadata": {},
   "source": [
    "A sample SQLite relational database has been created that stores information about a set of employees, including their names, social security numbers, home address, and other information.  \n",
    "\n",
    "A common way to interact with relational databases is via submission of **queries**.  _SQL_ is one agreed upon way to structure these queries.\n",
    "\n",
    "<blockquote>SQL is short for the <b>Structure Query Language</b>.</blockquote>\n",
    "\n",
    "The follow code snippet demonstrates how to connect to the database and query that information using the SQL _SELECT_ statement."
   ]
  },
  {
   "cell_type": "code",
   "execution_count": null,
   "id": "suspended-justice",
   "metadata": {},
   "outputs": [],
   "source": [
    "from background import *\n",
    "\n",
    "connection = create_connection(\"test.db\")\n",
    "\n",
    "select_users = \"SELECT * from EMPLOYEE\"\n",
    "users = execute_read_query(connection, select_users)\n",
    "\n",
    "for user in users:\n",
    "    print(user) "
   ]
  },
  {
   "cell_type": "markdown",
   "id": "announced-quantity",
   "metadata": {},
   "source": [
    "There are situations where one may not wish a user to be able to see information about arbitrary entries in the database.  For instance, the next code snippet requires a user to enter their SSN into a webform in order to see their current information.  The assumption here is that one only knows their own SSN, and not the SSN of their co-workers.  \n",
    "\n",
    "**Exercise:** Try the example for the employee whose SSN is 123456789. (make sure to press enter to confirm the value)"
   ]
  },
  {
   "cell_type": "code",
   "execution_count": null,
   "id": "proved-antenna",
   "metadata": {},
   "outputs": [],
   "source": [
    "ssn=input(\"Enter your SSN:\")\n",
    "select_users = \"SELECT * from employee where ssn=\" + ssn\n",
    "\n",
    "users = execute_read_query(connection, select_users)\n",
    "\n",
    "for user in users:\n",
    "    print(user) "
   ]
  },
  {
   "cell_type": "markdown",
   "id": "accurate-publicity",
   "metadata": {},
   "source": [
    "Very good.  Now a user can only see information for SSN numbers they know.  There is a first, obvious, vulerability in that a user could guess random SSNs and, perhaps, leak information about their co-workers, but the search space is large.  A second, more insidious vulnerability is known as _SQL Injection_ where additional SQL code can be fed into the application to change the results.  \n",
    "\n",
    "**Exercise:** When running the following box, append \"OR TRUE\" to the previous SSN to see what happens."
   ]
  },
  {
   "cell_type": "code",
   "execution_count": null,
   "id": "macro-sculpture",
   "metadata": {},
   "outputs": [],
   "source": [
    "ssn=input(\"Enter your SSN:\")\n",
    "select_users = \"SELECT * from employee where ssn=\" + ssn\n",
    "\n",
    "users = execute_read_query(connection, select_users)\n",
    "\n",
    "for user in users:\n",
    "    print(user) "
   ]
  },
  {
   "cell_type": "markdown",
   "id": "joined-details",
   "metadata": {},
   "source": [
    "As one can see, because of the mechanism the code uses to build its query, it is vulnerable to manipulation of the _WHERE_ clause.  \n",
    "\n",
    "<blockquote>Actions taken to reduce the likelihood of query manipulation are known as query <b>sanitation</b></blockquote>\n",
    "\n",
    "<img src=\"https://imgs.xkcd.com/comics/exploits_of_a_mom.png\">\n",
    "\n",
    "<center>Figure from https://xkcd.com/327/.</center>\n",
    "\n",
    "Let's run a new version that sanitizes the user input to ensure it only contains a valid SSN.\n",
    "\n",
    "**Exercise:** Try running the following block with and without the \"OR TRUE\" and you'll see only the valid SSN works."
   ]
  },
  {
   "cell_type": "code",
   "execution_count": null,
   "id": "adapted-superintendent",
   "metadata": {},
   "outputs": [],
   "source": [
    "ssn=input(\"Enter your SSN:\")\n",
    "if(isSSN(ssn)):\n",
    "    select_users = \"SELECT * from employee where ssn=\" + ssn\n",
    "\n",
    "    users = execute_read_query(connection, select_users)\n",
    "\n",
    "    for user in users:\n",
    "        print(user) "
   ]
  },
  {
   "cell_type": "markdown",
   "id": "suitable-anaheim",
   "metadata": {},
   "source": [
    "Let's try another example.  Let's say an employee has the following script to add new employees to the database.  Can you spot the vulnerability?"
   ]
  },
  {
   "cell_type": "code",
   "execution_count": null,
   "id": "streaming-arrest",
   "metadata": {},
   "outputs": [],
   "source": [
    "first_name = \"Abraham\"\n",
    "last_name = \"Lincoln\"\n",
    "ssn = \"222222222\"\n",
    "department_number = \"1\";\n",
    "\n",
    "add_user = \"\"\"\n",
    "INSERT INTO EMPLOYEE (Fname,Lname,Ssn,Dno)\n",
    "VALUES\n",
    "(\\\"\"\"\" + first_name + \"\\\",\\\"\" + last_name + \"\\\",\" + ssn + \",\" + department_number + \");\"\n",
    "\n",
    "execute_queries(connection,add_user)"
   ]
  },
  {
   "cell_type": "markdown",
   "id": "rental-reset",
   "metadata": {},
   "source": [
    "At first, it might seem like there is no good way to alter the query to expose extra information, because it is constrainted by the values in the query's _INSERT_ clause.  However, if you notice, the author of the script allows multiple queries to be run at once.  This is good for initializing a database, but not a great idea for regular use.\n",
    "\n",
    "This allows one to use another class of exploits that involves appending additional queries and running them all at the same time.  \n",
    "\n",
    "**Exercise:** Run the following code sample and use the input (you can copy and paste the whole line):\n",
    "\n",
    "1); UPDATE EMPLOYEE SET Salary=100000 WHERE Lname=\"English\"; DELETE FROM EMPLOYEE WHERE (Lname=\"Washington\"\n",
    "\n",
    "Then see what the fully resolved query looks like when printed."
   ]
  },
  {
   "cell_type": "code",
   "execution_count": null,
   "id": "inner-oregon",
   "metadata": {},
   "outputs": [],
   "source": [
    "first_name = \"George\"\n",
    "last_name = \"Washington\"\n",
    "ssn = \"555555555\"\n",
    "department_number = input()\n",
    "\n",
    "add_user = \"\"\"\n",
    "INSERT INTO EMPLOYEE (Fname,Lname,Ssn,Dno)\n",
    "VALUES\n",
    "(\\\"\"\"\" + first_name + \"\\\",\\\"\" + last_name + \"\\\",\" + ssn + \",\" + department_number + \");\"\n",
    "\n",
    "print(add_user)"
   ]
  },
  {
   "cell_type": "markdown",
   "id": "thousand-miami",
   "metadata": {},
   "source": [
    "One can see that with some clever formating we have spliced two additional queries into a single SQL compliant string that:\n",
    "\n",
    "- adds a dummy employee\n",
    "- adjusts an employee's salary\n",
    "- removes the dummy employee\n",
    "\n",
    "**Exercise:** Run the following code to use the exploit query and print the entire table.  Compare the table to our original printout and see what changed."
   ]
  },
  {
   "cell_type": "code",
   "execution_count": null,
   "id": "hired-amateur",
   "metadata": {},
   "outputs": [],
   "source": [
    "execute_queries(connection,add_user)\n",
    "\n",
    "select_users = \"SELECT * from employee\"\n",
    "users = execute_read_query(connection, select_users)\n",
    "\n",
    "for user in users:\n",
    "    print(user) "
   ]
  },
  {
   "cell_type": "markdown",
   "id": "entitled-investigation",
   "metadata": {},
   "source": [
    "If one compares this to the original table, one will see that Joyce has received a nice raise.  While it is convient to allow execution of batches to queries to, for instance, initialize your database, you should restrict execution to one query at a time in public facing scripts.  Similarly, this shows another aspect of _trust_, if one is giving another write access to a database, \n",
    "\n",
    "In summary, if you construct a dynamic SQL query based on user input make sure to sanitize your inputs!"
   ]
  },
  {
   "cell_type": "markdown",
   "id": "young-occasion",
   "metadata": {},
   "source": [
    "# Advanced ideas:\n",
    "\n",
    "A problem with this database is that database is that SSNs are stored in plaintext.  One way to solve this problem, would be to store a user password via the techniques described earlier in module and using that password to encrypt sensitive information."
   ]
  }
 ],
 "metadata": {
  "kernelspec": {
   "display_name": "Python 3",
   "language": "python",
   "name": "python3"
  },
  "language_info": {
   "codemirror_mode": {
    "name": "ipython",
    "version": 3
   },
   "file_extension": ".py",
   "mimetype": "text/x-python",
   "name": "python",
   "nbconvert_exporter": "python",
   "pygments_lexer": "ipython3",
   "version": "3.9.5"
  }
 },
 "nbformat": 4,
 "nbformat_minor": 5
}
