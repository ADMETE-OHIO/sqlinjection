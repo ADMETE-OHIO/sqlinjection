{
 "cells": [
  {
   "cell_type": "markdown",
   "id": "entitled-sewing",
   "metadata": {},
   "source": [
    "# SQL Injection\n",
    "\n",
    "### The purpose of this exercise is to demonstrate how unsanitized database queries can lead to leaks of personal information. \n",
    "\n",
    "### In this exercise we will:\n",
    "\n",
    "<ul>\n",
    "<li>Connect to a database.</li>\n",
    "<li>Submit a legitimate query.</li>\n",
    "<li>Submit a variety of illicit queries.</li>\n",
    "<li>Demonstrate how to sanitize database inputs to reduce the occurance of SQL injection attacks.</li>\n",
    "</ul>"
   ]
  },
  {
   "cell_type": "markdown",
   "id": "increasing-tribute",
   "metadata": {},
   "source": [
    "A sample SQLite database has been created that stores information about a set of employees, including their names, social security numbers, home address, and other information.  The follow code snippet demonstrates how to connect to the database and query that infomration using the SQL _SELECT_ statement."
   ]
  },
  {
   "cell_type": "code",
   "execution_count": 22,
   "id": "suspended-justice",
   "metadata": {},
   "outputs": [
    {
     "name": "stdout",
     "output_type": "stream",
     "text": [
      "Connection to SQLite DB successful\n"
     ]
    }
   ],
   "source": [
    "from background import *\n",
    "\n",
    "connection = create_connection(\".\\\\test.db\")\n",
    "\n",
    "select_users = \"SELECT * from EMPLOYEE\"\n",
    "users = execute_read_query(connection, select_users)\n",
    "\n",
    "for user in users:\n",
    "    print(user) "
   ]
  },
  {
   "cell_type": "markdown",
   "id": "announced-quantity",
   "metadata": {},
   "source": [
    "There are situations where one may not wish a user to be able to see information about arbitrary entires in the database.  For instance, the next code snippet requires a user to enter their SSN in order to see their current information.  The assumption here is that one only knows their own SSN, and not the SSN of their co-workers.  Try the example for the employee whose SSN is 123456789."
   ]
  },
  {
   "cell_type": "code",
   "execution_count": 23,
   "id": "governmental-element",
   "metadata": {},
   "outputs": [],
   "source": [
    "ssn=\"123456789\""
   ]
  },
  {
   "cell_type": "code",
   "execution_count": 24,
   "id": "proved-antenna",
   "metadata": {},
   "outputs": [],
   "source": [
    "select_users = \"SELECT * from employee where ssn=\" + ssn\n",
    "\n",
    "users = execute_read_query(connection, select_users)\n",
    "\n",
    "for user in users:\n",
    "    print(user) "
   ]
  },
  {
   "cell_type": "markdown",
   "id": "accurate-publicity",
   "metadata": {},
   "source": [
    "Very good.  Now a user can only see information for SSN numbers they know.  There is a first, obvious, vulerability in that a user could guess random SSNs and, perhaps, leak information about their co-workers, but the search space is large.  A second, more insidious vulnerable is known as _SQL Injection_ where additional SQL code can be fed into the application to change the results.  Append \"OR TRUE\" to the SSN and run the sample again to see what happens."
   ]
  },
  {
   "cell_type": "markdown",
   "id": "joined-details",
   "metadata": {},
   "source": [
    "As you can see, because of the mechanism the code uses to build their query, it is vulnerable to manipulation of the where clause.  Let's run a new version that _sanitizes_ the user input to ensure it only contains a valid SSN.\n",
    "\n",
    "<img src=\"https://imgs.xkcd.com/comics/exploits_of_a_mom.png\">"
   ]
  },
  {
   "cell_type": "code",
   "execution_count": 1,
   "id": "adapted-superintendent",
   "metadata": {},
   "outputs": [
    {
     "ename": "NameError",
     "evalue": "name 'isSSN' is not defined",
     "output_type": "error",
     "traceback": [
      "\u001b[1;31m---------------------------------------------------------------------------\u001b[0m",
      "\u001b[1;31mNameError\u001b[0m                                 Traceback (most recent call last)",
      "\u001b[1;32m<ipython-input-1-4427f735ca1d>\u001b[0m in \u001b[0;36m<module>\u001b[1;34m\u001b[0m\n\u001b[1;32m----> 1\u001b[1;33m \u001b[1;32mif\u001b[0m\u001b[1;33m(\u001b[0m\u001b[0misSSN\u001b[0m\u001b[1;33m(\u001b[0m\u001b[0mssn\u001b[0m\u001b[1;33m)\u001b[0m\u001b[1;33m)\u001b[0m\u001b[1;33m:\u001b[0m\u001b[1;33m\u001b[0m\u001b[1;33m\u001b[0m\u001b[0m\n\u001b[0m\u001b[0;32m      2\u001b[0m     \u001b[0mselect_users\u001b[0m \u001b[1;33m=\u001b[0m \u001b[1;34m\"SELECT * from employee where ssn=\"\u001b[0m \u001b[1;33m+\u001b[0m \u001b[0mssn\u001b[0m\u001b[1;33m\u001b[0m\u001b[1;33m\u001b[0m\u001b[0m\n\u001b[0;32m      3\u001b[0m \u001b[1;33m\u001b[0m\u001b[0m\n\u001b[0;32m      4\u001b[0m     \u001b[0musers\u001b[0m \u001b[1;33m=\u001b[0m \u001b[0mexecute_read_query\u001b[0m\u001b[1;33m(\u001b[0m\u001b[0mconnection\u001b[0m\u001b[1;33m,\u001b[0m \u001b[0mselect_users\u001b[0m\u001b[1;33m)\u001b[0m\u001b[1;33m\u001b[0m\u001b[1;33m\u001b[0m\u001b[0m\n\u001b[0;32m      5\u001b[0m \u001b[1;33m\u001b[0m\u001b[0m\n",
      "\u001b[1;31mNameError\u001b[0m: name 'isSSN' is not defined"
     ]
    }
   ],
   "source": [
    "if(isSSN(ssn)):\n",
    "    select_users = \"SELECT * from employee where ssn=\" + ssn\n",
    "\n",
    "    users = execute_read_query(connection, select_users)\n",
    "\n",
    "    for user in users:\n",
    "        print(user) "
   ]
  },
  {
   "cell_type": "markdown",
   "id": "entitled-investigation",
   "metadata": {},
   "source": [
    "In summary, if you construct a dynamic SQL query based on user input make sure to sanitize your inputs!"
   ]
  }
 ],
 "metadata": {
  "kernelspec": {
   "display_name": "Python 3",
   "language": "python",
   "name": "python3"
  },
  "language_info": {
   "codemirror_mode": {
    "name": "ipython",
    "version": 3
   },
   "file_extension": ".py",
   "mimetype": "text/x-python",
   "name": "python",
   "nbconvert_exporter": "python",
   "pygments_lexer": "ipython3",
   "version": "3.9.5"
  }
 },
 "nbformat": 4,
 "nbformat_minor": 5
}
